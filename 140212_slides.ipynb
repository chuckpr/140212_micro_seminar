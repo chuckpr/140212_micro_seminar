{
 "metadata": {
  "celltoolbar": "Slideshow",
  "name": "",
  "signature": "sha256:6728425d349eb0f17e67eee1a16e6ec5b19a4ff5f7734b0fb5cba08eae99eecd"
 },
 "nbformat": 3,
 "nbformat_minor": 0,
 "worksheets": [
  {
   "cells": [
    {
     "cell_type": "code",
     "collapsed": false,
     "input": [
      "import pandas as pd\n",
      "%load_ext rpy2.ipython"
     ],
     "language": "python",
     "metadata": {
      "slideshow": {
       "slide_type": "skip"
      }
     },
     "outputs": [],
     "prompt_number": 7
    },
    {
     "cell_type": "code",
     "collapsed": false,
     "input": [
      "%%R\n",
      "library(dplyr); library(tidyr)\n",
      "library(ggplot2)"
     ],
     "language": "python",
     "metadata": {
      "slideshow": {
       "slide_type": "skip"
      }
     },
     "outputs": [],
     "prompt_number": 23
    },
    {
     "cell_type": "markdown",
     "metadata": {
      "slideshow": {
       "slide_type": "slide"
      }
     },
     "source": [
      "##Unearthing the lives of soil microbes with DNA-SIP\n",
      "\n",
      "##12-February-2014\n",
      "\n",
      "###Charles Pepe-Ranney\n",
      "###Buckley Lab, Cornell University"
     ]
    },
    {
     "cell_type": "markdown",
     "metadata": {
      "slideshow": {
       "slide_type": "slide"
      }
     },
     "source": [
      "```\n",
      "Important genera: Agrobacterium, Alcaligenes, Arthrobacter, Bacillus, Flavobacterium, Micromonospora, Nocardia, Pseudomonas, and Streptomyces\n",
      "```\n",
      "\n",
      "*****\n",
      "\n",
      "####*Introduction to Soil Microbiology*, Alexander, 1977"
     ]
    },
    {
     "cell_type": "markdown",
     "metadata": {},
     "source": [
      "<img src=figs/schloss2006_rarefaction.png width=300px />\n",
      "\n",
      "*****\n",
      "\n",
      "####Schloss and Handelsman. *PLoS Computational Biology 2*, no. 7 (July 2006).\n"
     ]
    },
    {
     "cell_type": "markdown",
     "metadata": {
      "slideshow": {
       "slide_type": "slide"
      }
     },
     "source": [
      "<img src=figs/janssen2006_boxplot.jpg width=\"400px\"/>\n",
      "\n",
      "*****\n",
      "\n",
      "####Janssen, Peter H. *AEM* 72, no. 3 (March 2006): 1719\u201328."
     ]
    },
    {
     "cell_type": "code",
     "collapsed": false,
     "input": [
      "%%R -w 700 -h 350\n",
      "d = read.csv(\"data/janssen2006_table2.csv\")\n",
      "\n",
      "d[[\"Clone libraries\"]] = d$Abundance80\n",
      "d[[\"Colonies\"]] = d$MaxAbundanceRangeColonies\n",
      "\n",
      "dp = d %>%\n",
      "    select(`Clone libraries`, `Colonies`, Genus) %>%\n",
      "    na.omit %>%\n",
      "    gather(AbundanceType, Abundance, -Genus)\n",
      "\n",
      "p = ggplot(dp, aes(x = Genus, y = Abundance, fill = AbundanceType))\n",
      "\n",
      "p = p + geom_bar(stat = \"identity\", position = \"dodge\")\n",
      "\n",
      "p = p + labs(y = \"Relative Abundance\", color = \"Sample type\")\n",
      "\n",
      "p = p + theme_bw()\n",
      "\n",
      "p = p + theme(axis.text.x = element_text(size = 15, angle = 45, hjust = 1, face = \"italic\"),\n",
      "              axis.text.y = element_text(size = 12),\n",
      "              axis.title.x = element_blank(),\n",
      "              axis.title.y = element_text(size = 14),\n",
      "              legend.title = element_text(size = 12),\n",
      "              legend.text = element_text(size = 12))\n",
      "\n",
      "ggsave(\"figs/janssen2006_table2data.png\", p, w = 7, h = 3.5)"
     ],
     "language": "python",
     "metadata": {
      "slideshow": {
       "slide_type": "skip"
      }
     },
     "outputs": [],
     "prompt_number": 53
    },
    {
     "cell_type": "markdown",
     "metadata": {
      "slideshow": {
       "slide_type": "slide"
      }
     },
     "source": [
      "<img src=\"figs/janssen2006_table2data.png\" width=700px />\n",
      "\n",
      "*****\n",
      "\n",
      "####Adapted from Table 2 in Janssen, Peter H. *AEM* 72, no. 3 (March 2006): 1719\u201328."
     ]
    },
    {
     "cell_type": "code",
     "collapsed": false,
     "input": [
      "%%R -w 700 -h 350\n",
      "d = read.csv(\"data/janssen2006_table2.csv\")\n",
      "\n",
      "d[[\"Clone libraries\"]] = d$Abundance80\n",
      "d[[\"ATCC Isolates\"]] = d$AbundanceATCCSoilIsolates\n",
      "\n",
      "dp = d %>%\n",
      "    select(`Clone libraries`, `ATCC Isolates`, Genus) %>%\n",
      "    na.omit %>%\n",
      "    gather(AbundanceType, Abundance, -Genus)\n",
      "\n",
      "p = ggplot(dp, aes(x = Genus, y = Abundance, fill = AbundanceType))\n",
      "\n",
      "p = p + geom_ba\"figs/janssen2006_table2data_ATCC.png\"r(stat = \"identity\", position = \"dodge\")\n",
      "\n",
      "p = p + labs(y = \"Relative Abundance\", color = \"Sample type\")\n",
      "\n",
      "p = p + theme_bw()\n",
      "\n",
      "p = p + theme(axis.text.x = element_text(size = 15, angle = 45, hjust = 1, face = \"italic\"),\n",
      "              axis.text.y = element_text(size = 12),\n",
      "              axis.title.x = element_blank(),\n",
      "              axis.title.y = element_text(size = 14),\n",
      "              legend.title = element_text(size = 12),\n",
      "              legend.text = element_text(size = 12))\n",
      "\n",
      "ggsave(\"figs/janssen2006_table2data_ATCC.png\", p, w = 7, h = 3.5)"
     ],
     "language": "python",
     "metadata": {
      "slideshow": {
       "slide_type": "skip"
      }
     },
     "outputs": [],
     "prompt_number": 72
    },
    {
     "cell_type": "markdown",
     "metadata": {
      "slideshow": {
       "slide_type": "slide"
      }
     },
     "source": [
      "<img src=\"figs/janssen2006_table2data_ATCC.png\" width=700px />\n",
      "\n",
      "*****\n",
      "\n",
      "####Adapted from Table 2 in Janssen, Peter H. *AEM* 72, no. 3 (March 2006): 1719\u201328."
     ]
    },
    {
     "cell_type": "markdown",
     "metadata": {
      "slideshow": {
       "slide_type": "slide"
      }
     },
     "source": [
      "##Five years later...\n",
      "\n",
      "<img src=figs/sangwan2011_stacked_bar.jpg width=600px />\n",
      "\n",
      "*****\n",
      "\n",
      "####Bergmann, G et al. *Soil Biol & Biochem* 43, no. 7 (July 2011): 1450\u201355."
     ]
    },
    {
     "cell_type": "code",
     "collapsed": false,
     "input": [
      "%%R -h 300\n",
      "d = read.csv(\"data/bergmann2011_table.csv\")\n",
      "\n",
      "p = ggplot(d, aes(x = percent.identity))\n",
      "\n",
      "p = p + geom_histogram(binwidth = 0.5)\n",
      "\n",
      "p = p + theme_bw()\n",
      "\n",
      "p = p + theme(axis.text.x = element_text(size = 15),\n",
      "              axis.text.y = element_text(size = 14),\n",
      "              axis.title.x = element_blank(),\n",
      "              axis.title.y = element_text(size = 14),\n",
      "              legend.title = element_text(size = 12),\n",
      "              legend.text = element_text(size = 12))\n",
      "\n",
      "p = p + ggtitle(\"Sequence identity of 15 most abundant Verrucomicrobia phylotypes with closest cultured relative\")\n",
      "\n",
      "ggsave(\"figs/verrucohistogram.png\", p, h = 3, w = 6)"
     ],
     "language": "python",
     "metadata": {
      "slideshow": {
       "slide_type": "skip"
      }
     },
     "outputs": [],
     "prompt_number": 74
    },
    {
     "cell_type": "markdown",
     "metadata": {
      "slideshow": {
       "slide_type": "slide"
      }
     },
     "source": [
      "<img src=figs/verrucohistogram.png width=600px />\n",
      "\n",
      "*****\n",
      "\n",
      "####Data from Bergmann, G et al. *Soil Biol & Biochem* 43, no. 7 (July 2011): 1450\u201355."
     ]
    },
    {
     "cell_type": "markdown",
     "metadata": {},
     "source": [
      "<img src=figs/radajewski2000_tubes.jpg width=750px />\n",
      "\n",
      "*****\n",
      "\n",
      "####Radajewski et al. *Nature* 403, no. 6770 (February 10, 2000): 646\u201349.\n"
     ]
    },
    {
     "cell_type": "markdown",
     "metadata": {
      "slideshow": {
       "slide_type": "slide"
      }
     },
     "source": [
      "<img src=figs/buckley2007_GCandLabel.jpg width =600px />"
     ]
    },
    {
     "cell_type": "code",
     "collapsed": false,
     "input": [
      "ls figs/"
     ],
     "language": "python",
     "metadata": {},
     "outputs": [
      {
       "output_type": "stream",
       "stream": "stdout",
       "text": [
        "\u001b[0m\u001b[00;38;5;244m\u001b[m\u001b[00;38;5;136mjanssen2006_boxplot.jpg\u001b[0m  \u001b[00;38;5;244m\u001b[m\u001b[00;38;5;136mjanssen2006_table2data.png\u001b[0m  \u001b[00;38;5;244m\u001b[m\u001b[00;38;5;136msangwan2011_stacked_bar.jpg\u001b[0m\r\n"
       ]
      }
     ],
     "prompt_number": 54
    },
    {
     "cell_type": "code",
     "collapsed": false,
     "input": [],
     "language": "python",
     "metadata": {},
     "outputs": []
    },
    {
     "cell_type": "code",
     "collapsed": false,
     "input": [],
     "language": "python",
     "metadata": {},
     "outputs": []
    },
    {
     "cell_type": "code",
     "collapsed": false,
     "input": [],
     "language": "python",
     "metadata": {},
     "outputs": []
    },
    {
     "cell_type": "code",
     "collapsed": false,
     "input": [],
     "language": "python",
     "metadata": {},
     "outputs": []
    }
   ],
   "metadata": {}
  }
 ]
}