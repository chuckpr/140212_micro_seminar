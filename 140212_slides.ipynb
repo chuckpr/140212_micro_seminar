{
 "metadata": {
  "celltoolbar": "Slideshow",
  "name": "",
  "signature": "sha256:61a911b5a404d9d3254f2866524fbd762fd77803c2b095df794d246e0075f6d7"
 },
 "nbformat": 3,
 "nbformat_minor": 0,
 "worksheets": [
  {
   "cells": [
    {
     "cell_type": "code",
     "collapsed": false,
     "input": [
      "import pandas as pd\n",
      "from hierarchymagic import run_dot\n",
      "from IPython.display import Image\n",
      "%load_ext rpy2.ipython"
     ],
     "language": "python",
     "metadata": {
      "slideshow": {
       "slide_type": "skip"
      }
     },
     "outputs": [
      {
       "output_type": "stream",
       "stream": "stdout",
       "text": [
        "The rpy2.ipython extension is already loaded. To reload it, use:\n",
        "  %reload_ext rpy2.ipython\n"
       ]
      }
     ],
     "prompt_number": 91
    },
    {
     "cell_type": "code",
     "collapsed": false,
     "input": [
      "%%R\n",
      "library(dplyr); library(tidyr)\n",
      "library(ggplot2)\n",
      "library(xkcd)"
     ],
     "language": "python",
     "metadata": {
      "slideshow": {
       "slide_type": "skip"
      }
     },
     "outputs": [
      {
       "metadata": {},
       "output_type": "display_data",
       "text": [
        "Loading required package: extrafont\n",
        "Registering fonts with R\n"
       ]
      }
     ],
     "prompt_number": 179
    },
    {
     "cell_type": "markdown",
     "metadata": {
      "slideshow": {
       "slide_type": "slide"
      }
     },
     "source": [
      "#Unearthing the lives of soil microbes with DNA-SIP\n",
      "\n",
      "#12-February-2014\n",
      "\n",
      "##Buckley Lab, Cornell University\n",
      "###Charles Pepe-Ranney"
     ]
    },
    {
     "cell_type": "markdown",
     "metadata": {
      "slideshow": {
       "slide_type": "slide"
      }
     },
     "source": [
      "#Overview\n",
      "\n",
      "<ul>\n",
      "    <li style=\"font-size:18pt; margin:12px\">Historical context</li>\n",
      "    <ul>\n",
      "    <li style=\"font-size:18pt; margin:12px\"> Soil microbial diversity </li>\n",
      "    <li style=\"font-size:18pt; margin:12px\"> DNA-SIP </li>\n",
      "    </ul>\n",
      "    <li style=\"font-size:18pt; margin:12px\">Case studies</li>\n",
      "    <ul>\n",
      "    <li style=\"font-size:18pt; margin:12px\"> Nitrogen fixation soil crust </li>\n",
      "    <li style=\"font-size:18pt; margin:12px\"> Carbon flow in agricultural soil </li>\n",
      "    </ul>\n",
      "</ul>"
     ]
    },
    {
     "cell_type": "markdown",
     "metadata": {
      "slideshow": {
       "slide_type": "slide"
      }
     },
     "source": [
      "##Important genera: \n",
      "###Agrobacterium, Alcaligenes, Arthrobacter, Bacillus, Flavobacterium, Micromonospora, Nocardia, Pseudomonas, and Streptomyces\n",
      "\n",
      "*****\n",
      "\n",
      "####*Introduction to Soil Microbiology*, Alexander, 1977"
     ]
    },
    {
     "cell_type": "code",
     "collapsed": false,
     "input": [
      "%%R -w 700 -h 350\n",
      "d = read.csv(\"data/janssen2006_table2.csv\")\n",
      "\n",
      "d[[\"Clone libraries\"]] = d$Abundance80\n",
      "d[[\"Colonies\"]] = d$MaxAbundanceRangeColonies\n",
      "\n",
      "dp = d %>%\n",
      "    select(`Clone libraries`, `Colonies`, Genus) %>%\n",
      "    na.omit %>%\n",
      "    gather(AbundanceType, Abundance, -Genus)\n",
      "\n",
      "p = ggplot(dp, aes(x = Genus, y = Abundance, fill = AbundanceType))\n",
      "\n",
      "p = p + geom_bar(stat = \"identity\", position = \"dodge\")\n",
      "\n",
      "p = p + labs(y = \"Relative Abundance\", color = \"Sample type\")\n",
      "\n",
      "p = p + theme_bw()\n",
      "\n",
      "p = p + theme(axis.text.x = element_text(size = 15, angle = 45, hjust = 1, face = \"italic\"),\n",
      "              axis.text.y = element_text(size = 12),\n",
      "              axis.title.x = element_blank(),\n",
      "              axis.title.y = element_text(size = 14),\n",
      "              legend.title = element_text(size = 12),\n",
      "              legend.text = element_text(size = 12))\n",
      "\n",
      "ggsave(\"figs/janssen2006_table2data.png\", p, w = 7, h = 3.5)"
     ],
     "language": "python",
     "metadata": {
      "slideshow": {
       "slide_type": "skip"
      }
     },
     "outputs": [],
     "prompt_number": 53
    },
    {
     "cell_type": "markdown",
     "metadata": {
      "slideshow": {
       "slide_type": "slide"
      }
     },
     "source": [
      "<img src=\"figs/janssen2006_table2data.png\" width=700px align=\"middle\"/>\n",
      "\n",
      "*****\n",
      "\n",
      "####Adapted from Table 2 in Janssen, Peter H. *AEM* 72, no. 3 (March 2006): 1719\u201328."
     ]
    },
    {
     "cell_type": "code",
     "collapsed": false,
     "input": [
      "%%R -w 700 -h 350\n",
      "d = read.csv(\"data/janssen2006_table2.csv\")\n",
      "\n",
      "d[[\"Clone libraries\"]] = d$Abundance80\n",
      "d[[\"ATCC Isolates\"]] = d$AbundanceATCCSoilIsolates\n",
      "\n",
      "dp = d %>%\n",
      "    select(`Clone libraries`, `ATCC Isolates`, Genus) %>%\n",
      "    na.omit %>%\n",
      "    gather(AbundanceType, Abundance, -Genus)\n",
      "\n",
      "p = ggplot(dp, aes(x = Genus, y = Abundance, fill = AbundanceType))\n",
      "\n",
      "p = p + geom_bar(stat = \"identity\", position = \"dodge\")\n",
      "\n",
      "p = p + labs(y = \"Relative Abundance\", color = \"Sample type\")\n",
      "\n",
      "p = p + theme_bw()\n",
      "\n",
      "p = p + theme(axis.text.x = element_text(size = 15, angle = 50, hjust = 1, face = \"italic\"),\n",
      "              axis.text.y = element_text(size = 12),\n",
      "              axis.title.x = element_blank(),\n",
      "              axis.title.y = element_text(size = 14),\n",
      "              legend.title = element_text(size = 12),\n",
      "              legend.text = element_text(size = 12))\n",
      "\n",
      "ggsave(\"figs/janssen2006_table2data_ATCC.png\", p, w = 7, h = 3.5)"
     ],
     "language": "python",
     "metadata": {
      "slideshow": {
       "slide_type": "skip"
      }
     },
     "outputs": [],
     "prompt_number": 83
    },
    {
     "cell_type": "markdown",
     "metadata": {
      "slideshow": {
       "slide_type": "slide"
      }
     },
     "source": [
      "<img src=\"figs/janssen2006_table2data_ATCC.png\" width=700px align=\"middle\"/>\n",
      "\n",
      "*****\n",
      "\n",
      "####Adapted from Table 2 in Janssen, Peter H. *AEM* 72, no. 3 (March 2006): 1719\u201328."
     ]
    },
    {
     "cell_type": "code",
     "collapsed": false,
     "input": [
      "cmd = \"\"\"\n",
      "digraph G {\n",
      "\n",
      "subgraph cluster_all{\n",
      "\t\tcolor=white;\n",
      "\t\tfontsize=30\n",
      "\t\tfontname=\"cuosine\"        \n",
      "\t\tfontcolor=\"black\" \n",
      "        \n",
      "    GI[style=filled,color=lightgrey,label=\"Genetic Identity\",fontsize=30,fontname=\"Cousine\"];\n",
      "    F[style=filled,color=lightgrey,label=\"Function\",fontsize=30,fontname=\"Cousine\"];\n",
      "    GI -> F;\n",
      "    \n",
      "}\n",
      "\n",
      "}\n",
      "\"\"\"\n",
      "tmpfile = \"figs/flow1.png\"\n",
      "with open(tmpfile, 'w') as f: f.write(run_dot(cmd))"
     ],
     "language": "python",
     "metadata": {
      "slideshow": {
       "slide_type": "skip"
      }
     },
     "outputs": [],
     "prompt_number": 146
    },
    {
     "cell_type": "markdown",
     "metadata": {
      "slideshow": {
       "slide_type": "slide"
      }
     },
     "source": [
      "<img src=figs/flow1.png width=600px align=\"middle\"/>"
     ]
    },
    {
     "cell_type": "code",
     "collapsed": false,
     "input": [
      "cmd = \"\"\"\n",
      "digraph G {\n",
      "\n",
      "subgraph cluster_all{\n",
      "\t\tcolor=white;\n",
      "\t\tfontsize=30\n",
      "\t\tfontname=\"cuosine\"        \n",
      "\t\tfontcolor=\"black\" \n",
      "        \n",
      "    GI[style=filled,color=lightgrey,label=\"Genetic Identity\",fontsize=30,fontname=\"Cousine\"];\n",
      "    C[style=filled,color=lightblue,label=\"Culture\",fontsize=30,fontname=\"Cousine\"];\n",
      "    F[style=filled,color=lightgrey,label=\"Function\",fontsize=30,fontname=\"Cousine\"];\n",
      "    GI -> C;\n",
      "    C -> F;\n",
      "    \n",
      "}\n",
      "\n",
      "}\n",
      "\"\"\"\n",
      "tmpfile = \"figs/flow2.png\"\n",
      "with open(tmpfile, 'w') as f: f.write(run_dot(cmd))"
     ],
     "language": "python",
     "metadata": {
      "slideshow": {
       "slide_type": "skip"
      }
     },
     "outputs": [],
     "prompt_number": 145
    },
    {
     "cell_type": "markdown",
     "metadata": {
      "slideshow": {
       "slide_type": "subslide"
      }
     },
     "source": [
      "<img src=\"figs/flow2.png\" width=600px align=\"middle\"/>"
     ]
    },
    {
     "cell_type": "markdown",
     "metadata": {
      "slideshow": {
       "slide_type": "slide"
      }
     },
     "source": [
      "<img src=figs/schloss2006_rarefaction.png width=350px align=\"middle\"/>\n",
      "\n",
      "*****\n",
      "\n",
      "####Schloss and Handelsman. *PLoS Computational Biology 2*, no. 7 (July 2006)."
     ]
    },
    {
     "cell_type": "markdown",
     "metadata": {
      "slideshow": {
       "slide_type": "slide"
      }
     },
     "source": [
      "<img src=figs/janssen2006_boxplot.jpg width=\"450px\" align=\"middle\"/>\n",
      "\n",
      "*****\n",
      "\n",
      "####Janssen, Peter H. *AEM* 72, no. 3 (March 2006): 1719\u201328."
     ]
    },
    {
     "cell_type": "markdown",
     "metadata": {
      "slideshow": {
       "slide_type": "slide"
      }
     },
     "source": [
      "##Five years later...\n",
      "\n",
      "<img src=figs/sangwan2011_stacked_bar.jpg width=600px align=\"middle\"/>\n",
      "\n",
      "*****\n",
      "\n",
      "####Bergmann, G et al. *Soil Biol & Biochem* 43, no. 7 (July 2011): 1450\u201355."
     ]
    },
    {
     "cell_type": "code",
     "collapsed": false,
     "input": [
      "%%R -h 300\n",
      "d = read.csv(\"data/bergmann2011_table.csv\")\n",
      "\n",
      "p = ggplot(d, aes(x = percent.identity))\n",
      "\n",
      "p = p + geom_histogram(binwidth = 0.5)\n",
      "\n",
      "p = p + theme_bw()\n",
      "\n",
      "p = p + theme(axis.text.x = element_text(size = 15),\n",
      "              axis.text.y = element_text(size = 14),\n",
      "              axis.title.x = element_blank(),\n",
      "              axis.title.y = element_text(size = 14),\n",
      "              legend.title = element_text(size = 12),\n",
      "              legend.text = element_text(size = 12))\n",
      "\n",
      "p = p + ggtitle(\"Sequence identity between 15 most abundant\\nVerrucomicrobia phylotypes and closest cultured relatives\")\n",
      "\n",
      "ggsave(\"figs/verrucohistogram.png\", p, h = 3, w = 6)"
     ],
     "language": "python",
     "metadata": {
      "slideshow": {
       "slide_type": "skip"
      }
     },
     "outputs": [],
     "prompt_number": 147
    },
    {
     "cell_type": "markdown",
     "metadata": {
      "slideshow": {
       "slide_type": "slide"
      }
     },
     "source": [
      "<img src=figs/verrucohistogram.png width=650px align=\"middle\"/>\n",
      "\n",
      "*****\n",
      "\n",
      "####Data from Bergmann, G. et al. *Soil Biol & Biochem* 43, no. 7 (July 2011): 1450\u201355."
     ]
    },
    {
     "cell_type": "markdown",
     "metadata": {
      "slideshow": {
       "slide_type": "slide"
      }
     },
     "source": [
      "<img src=\"figs/schmidt_succession.jpeg\" width=350px align=\"middle\"/>\n",
      "\n",
      "*****\n",
      "\n",
      "####Schmidt, SK. et al. *Ecology 88*, no. 6 (June 1, 2007): 1379\u201385."
     ]
    },
    {
     "cell_type": "markdown",
     "metadata": {
      "slideshow": {
       "slide_type": "slide"
      }
     },
     "source": [
      "<img src=\"figs/flow2.png\" width=600px align=\"middle\"/>"
     ]
    },
    {
     "cell_type": "code",
     "collapsed": false,
     "input": [
      "cmd = \"\"\"\n",
      "digraph G {\n",
      "\n",
      "subgraph cluster_all{\n",
      "\t\tcolor=white;\n",
      "\t\tfontsize=30\n",
      "\t\tfontname=\"cuosine\"        \n",
      "\t\tfontcolor=\"black\" \n",
      "        \n",
      "    GI[style=filled,color=lightgrey,label=\"Genetic Identity\",fontsize=30,fontname=\"Cousine\"];\n",
      "    C[style=filled,color=lightblue,label=\"Culture\",fontsize=30,fontname=\"Cousine\"];\n",
      "    F[style=filled,color=lightgrey,label=\"Function\",fontsize=30,fontname=\"Cousine\"];\n",
      "    S[style=filled,color=darkseagreen3,label=\"DNA-SIP\",fontsize=30,fontname=\"Cousine\"];\n",
      "    GI -> C;\n",
      "    S -> GI;\n",
      "    C -> F;\n",
      "    S -> F;\n",
      "    \n",
      "}\n",
      "\n",
      "}\n",
      "\"\"\"\n",
      "tmpfile = \"figs/flow3.png\"\n",
      "with open(tmpfile, 'w') as f: f.write(run_dot(cmd))\n",
      "#Image(\"figs/flow3.png\")"
     ],
     "language": "python",
     "metadata": {
      "slideshow": {
       "slide_type": "skip"
      }
     },
     "outputs": [],
     "prompt_number": 152
    },
    {
     "cell_type": "markdown",
     "metadata": {
      "slideshow": {
       "slide_type": "subslide"
      }
     },
     "source": [
      "<img src=\"figs/flow3.png\" width=600px align=\"middle\"/>"
     ]
    },
    {
     "cell_type": "code",
     "collapsed": false,
     "input": [
      "cmd = \"\"\"\n",
      "digraph G {\n",
      "\n",
      "subgraph cluster_all{\n",
      "\t\tcolor=white;\n",
      "\t\tfontsize=30\n",
      "\t\tfontname=\"cuosine\"        \n",
      "\t\tfontcolor=\"black\" \n",
      "        \n",
      "    GI[style=filled,color=lightgrey,label=\"Genetic Identity\",fontsize=30,fontname=\"Cousine\"];\n",
      "    C[style=filled,color=lightblue,label=\"Culture\",fontsize=30,fontname=\"Cousine\"];\n",
      "    F[style=filled,color=lightgrey,label=\"Function\",fontsize=30,fontname=\"Cousine\"];\n",
      "    S[color=black,image=\"figs/superman.png\",label=\"\"];\n",
      "    GI -> C;\n",
      "    S -> GI;\n",
      "    C -> F;\n",
      "    S -> F;\n",
      "}\n",
      "\n",
      "}\n",
      "\"\"\"\n",
      "tmpfile = \"figs/flow4.png\"\n",
      "with open(tmpfile, 'w') as f: f.write(run_dot(cmd))\n",
      "#Image(\"figs/flow4.png\")"
     ],
     "language": "python",
     "metadata": {
      "slideshow": {
       "slide_type": "skip"
      }
     },
     "outputs": [],
     "prompt_number": 153
    },
    {
     "cell_type": "markdown",
     "metadata": {
      "slideshow": {
       "slide_type": "subslide"
      }
     },
     "source": [
      "<img src=\"figs/flow4.png\" width=500px align=\"middle\"/>"
     ]
    },
    {
     "cell_type": "markdown",
     "metadata": {
      "slideshow": {
       "slide_type": "slide"
      }
     },
     "source": [
      "<img src=figs/radajewski2000_tubes.jpg width=750px align=\"middle\"/>\n",
      "\n",
      "*****\n",
      "\n",
      "####Radajewski et al. *Nature* 403, no. 6770 (February 10, 2000): 646\u201349.\n"
     ]
    },
    {
     "cell_type": "markdown",
     "metadata": {
      "slideshow": {
       "slide_type": "slide"
      }
     },
     "source": [
      "<img src=figs/buckley2007_GCandLabel.jpg width =600px align=\"middle\"/>\n",
      "\n",
      "*****\n",
      "\n",
      "####Buckley, DH. et al. *AEM* 73, no. 10 (May 2007): 3189\u201395."
     ]
    },
    {
     "cell_type": "markdown",
     "metadata": {
      "slideshow": {
       "slide_type": "slide"
      }
     },
     "source": [
      "<img src=figs/schloss_rank_abundance.jpg width=400px align=\"middle\"/>\n",
      "\n",
      "*****\n",
      "\n",
      "####Schloss and Handelsman. *PLoS Computational Biology 2*, no. 7 (July 2006)."
     ]
    },
    {
     "cell_type": "markdown",
     "metadata": {
      "slideshow": {
       "slide_type": "subslide"
      }
     },
     "source": [
      "##\"The centrifugal field tends to drive the macromolecules into the region where the sum of the forces acting on a given molecule is zero. (The effective density of the macromolecular material is here defined as the density of the solution in this region.) This concentrating tendency is opposed by Brownian motion, with the result that at equilibrium the macromolecules are distributed with respect to concentration in a band of width inversely related to their molecular weight.\"\n",
      "\n",
      "*****\n",
      "\n",
      "Meselson, M. **Equilibrium Sedimentation of Macromolecules in Density Gradients.** *PNAS* 43, no. 7 (July 15, 1957): 581\u201388."
     ]
    },
    {
     "cell_type": "code",
     "collapsed": false,
     "input": [
      "%%R -w 500\n",
      "\n",
      "f = function(x, c0, pos) {\n",
      "    c0 * exp(-(pos - x) ** 2 / (2 * (0.1 ** 2)))\n",
      "}\n",
      "\n",
      "X = seq(0,1,0.01)\n",
      "Y1 = sapply(X, f, c0=1, pos=0.50)\n",
      "Y2 = sapply(X, f, c0=0.05, pos=0.65)\n",
      "Y3 = sapply(X, f, c0=0.25, pos=0.45)\n",
      "\n",
      "df = data.frame(X = X,\n",
      "                big = Y1,\n",
      "                mid = Y3,\n",
      "                little = Y2)\n",
      "\n",
      "df = df %>% mutate(total = big + little + mid)\n",
      "\n",
      "df = df %>%\n",
      "    gather(OTU, Concentration, -X, -total) %>%\n",
      "    mutate(`Relative Abundance` = Concentration / total) %>% \n",
      "    gather(type, value, -X, -total, -OTU)\n",
      "\n",
      "p = ggplot(df, aes(x = X, y = value))\n",
      "\n",
      "p = p + facet_wrap(~type, ncol = 1)\n",
      "\n",
      "p = p + geom_line(data = df %>% filter(type == \"Concentration\"), size = 2, aes(color = OTU))\n",
      "p = p + geom_area(data = df %>% filter(type == \"Relative Abundance\"), aes(fill = OTU))\n",
      "\n",
      "p = p + theme_bw()\n",
      "\n",
      "p = p + labs(x = \"Density\")\n",
      "\n",
      "p = p + theme(axis.text.x = element_blank(),\n",
      "              axis.text.y = element_blank(),\n",
      "              axis.title.y = element_blank(),\n",
      "              axis.title.x = element_text(size = 20),\n",
      "              legend.title = element_text(size = 12),\n",
      "              legend.text = element_text(size = 12),\n",
      "              strip.background = element_blank(),\n",
      "              strip.text = element_text(size = 20, face = \"italic\"))\n",
      "\n",
      "\n",
      "ggsave(\"figs/abund_v_density.png\", p, w = 6, h = 5)"
     ],
     "language": "python",
     "metadata": {
      "slideshow": {
       "slide_type": "skip"
      }
     },
     "outputs": [],
     "prompt_number": 246
    },
    {
     "cell_type": "markdown",
     "metadata": {
      "slideshow": {
       "slide_type": "subslide"
      }
     },
     "source": [
      "<img src=\"figs/abund_v_density.png\" width=700px align=\"middle\"/>"
     ]
    },
    {
     "cell_type": "markdown",
     "metadata": {
      "slideshow": {
       "slide_type": "slide"
      }
     },
     "source": [
      "<img src=\"figs/sparsity_v_ra.png\" width=1000px align=\"middle\"/>"
     ]
    },
    {
     "cell_type": "markdown",
     "metadata": {
      "slideshow": {
       "slide_type": "subslide"
      }
     },
     "source": [
      "#Methods for finding <sup>13</sup>C DNA...\n",
      "##Heavy fractions in \"labeled\" gradient\n",
      "##Carrier DNA\n",
      "##Light versus heavy\n",
      "##Comparing unlabeled <sup>12</sup>C control DNA to <sup>13<sup>C-labeled counterpart"
     ]
    },
    {
     "cell_type": "markdown",
     "metadata": {
      "slideshow": {
       "slide_type": "subslide"
      }
     },
     "source": [
      "#Methods for finding <sup>13</sup>C DNA...\n",
      "##<strike>Heavy fractions in \"labeled\" gradient</strike>\n",
      "##<strike>Carrier DNA</strike>\n",
      "##<strike>Light versus heavy</strike>\n",
      "##<span style=\"color:red\">Comparing unlabeled <sup>12</sup>C control DNA to <sup>13</sup>C-labeled counterpart</span>"
     ]
    },
    {
     "cell_type": "markdown",
     "metadata": {
      "slideshow": {
       "slide_type": "subslide"
      }
     },
     "source": [
      "<img src=\"figs/abund_v_density.png\" width=700px align=\"middle\"/>"
     ]
    },
    {
     "cell_type": "markdown",
     "metadata": {
      "slideshow": {
       "slide_type": "slide"
      }
     },
     "source": [
      "#Lots of different isotopes to choose from...\n",
      "\n",
      "*****\n",
      "\n",
      "#<sup>13</sup>C &#10140; Cellulose, xylose, glucose, cells...\n",
      "\n",
      "*****\n",
      "#<sup>15</sup>N &#10140; N<sub>2</sub>\n",
      "\n",
      "*****\n",
      "#<sup>18</sup>O &#10140; Water"
     ]
    },
    {
     "cell_type": "markdown",
     "metadata": {
      "slideshow": {
       "slide_type": "subslide"
      }
     },
     "source": [
      "#Lots of different isotopes to choose from...\n",
      "\n",
      "*****\n",
      "\n",
      "#<sup>13</sup>C &#10140; <span style=\"color:red\">Cellulose</span> , <span style=\"color:red\">xylose</span>, glucose, cells...\n",
      "\n",
      "*****\n",
      "#<sup>15</sup>N &#10140; <span style=\"color:red\">N<sub>2</sub></span>\n",
      "\n",
      "*****\n",
      "#<sup>18</sup>O &#10140; Water"
     ]
    }
   ],
   "metadata": {}
  }
 ]
}