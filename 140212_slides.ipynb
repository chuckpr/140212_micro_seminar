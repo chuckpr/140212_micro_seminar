{
 "metadata": {
  "celltoolbar": "Slideshow",
  "name": "",
  "signature": "sha256:28d99c130bc459c779470a248ba9b3e2e85f4afc623bc663f12583e4b2251752"
 },
 "nbformat": 3,
 "nbformat_minor": 0,
 "worksheets": [
  {
   "cells": [
    {
     "cell_type": "code",
     "collapsed": false,
     "input": [
      "import pandas as pd\n",
      "%load_ext hierarchymagic\n",
      "from hierarchymagic import run_dot\n",
      "from IPython.display import Image\n",
      "%load_ext rpy2.ipython"
     ],
     "language": "python",
     "metadata": {
      "slideshow": {
       "slide_type": "skip"
      }
     },
     "outputs": [],
     "prompt_number": 6
    },
    {
     "cell_type": "code",
     "collapsed": false,
     "input": [
      "%%R\n",
      "library(dplyr); library(tidyr)\n",
      "library(ggplot2)\n",
      "library(xkcd)\n",
      "library(timeline)"
     ],
     "language": "python",
     "metadata": {
      "slideshow": {
       "slide_type": "skip"
      }
     },
     "outputs": [
      {
       "metadata": {},
       "output_type": "display_data",
       "text": [
        "\n",
        "Attaching package: \u2018dplyr\u2019\n",
        "\n",
        "The following object is masked from \u2018package:stats\u2019:\n",
        "\n",
        "    filter\n",
        "\n",
        "The following objects are masked from \u2018package:base\u2019:\n",
        "\n",
        "    intersect, setdiff, setequal, union\n",
        "\n",
        "Loading required package: extrafont\n",
        "Registering fonts with R\n"
       ]
      }
     ],
     "prompt_number": 7
    },
    {
     "cell_type": "markdown",
     "metadata": {
      "slideshow": {
       "slide_type": "slide"
      }
     },
     "source": [
      "#Unearthing the lives of soil microbes with DNA-SIP\n",
      "\n",
      "#12-February-2014\n",
      "\n",
      "##Buckley Lab, Cornell University\n",
      "###Charles Pepe-Ranney"
     ]
    },
    {
     "cell_type": "code",
     "collapsed": false,
     "input": [
      "%%R -w 1200 -h 500\n",
      "today = Sys.Date()\n",
      "\n",
      "df.methods = data.frame(method = c(\"Pure culture\", \n",
      "                                   \"Clone libraries\", \n",
      "                                   \"DGGE\",\n",
      "                                   \"tRFLP\",\n",
      "                                   \"NGS amplicon\"), \n",
      "                method2 = c(\"Pure culture\",\n",
      "                            \"DGGE\",\n",
      "                            \"tRFLP\",\n",
      "                            \"Clone libraries\", \n",
      "                            \"NGS amplicon\"), \n",
      "                StartDate = c(as.Date(\"1977-01-01\"), \n",
      "                              as.Date(\"1984-04-27\"), \n",
      "                              as.Date(\"1993-03-01\"),\n",
      "                              as.Date(\"1997-11-01\"),\n",
      "                              as.Date(\"2006-08-08\")), \n",
      "                EndDate = c(today, \n",
      "                            today, \n",
      "                            today,\n",
      "                            today,\n",
      "                            today))\n",
      "\n",
      "update_geom_defaults(\"point\", list(size = 4))\n",
      "update_geom_defaults(\"line\", list(alpha = 0.25))\n",
      "\n",
      "df.papers = data.frame(titles = c(\"Alexander (1977)\",\n",
      "                                  \"Stahl et al. (1984)\", \n",
      "                                  \"Bergmann (2011)\",\n",
      "                                  \"Hugenholtz et al. (1998)\", \n",
      "                                  \"Sogin et al. (2006)\",\n",
      "                                  \"Schloss and Handelsman (2006)\",\n",
      "                                  \"Janssen (2006)\", \n",
      "                                  \"Radajewski et al. (2000)\"), \n",
      "                       Date = c(as.Date(\"1977-01-01\"),\n",
      "                                as.Date(\"1984-04-27\"),\n",
      "                                as.Date(\"2011-07-01\"), \n",
      "                                as.Date(\"1998-01-01\"), \n",
      "                                as.Date(\"2006-08-08\"),\n",
      "                                as.Date(\"2006-07-01\"),\n",
      "                                as.Date(\"2006-03-01\"),\n",
      "                                as.Date(\"2000-02-01\")),\n",
      "                       type = c(\"soil\",\n",
      "                                \"not soil\", \n",
      "                                \"soil\", \n",
      "                                \"not soil\",\n",
      "                                \"not soil\",\n",
      "                                \"soil\", \n",
      "                                \"soil\",\n",
      "                                \"SIP\"))\n",
      "\n",
      "p = timeline(df.methods, df.papers, \n",
      "             text.size = 4.5, \n",
      "             text.family = \"sanserif\",\n",
      "             event.above = FALSE, \n",
      "             event.line = TRUE,\n",
      "             event.text.size = 3,\n",
      "             event.text.vjust = 0.5,\n",
      "             event.spots = 8,\n",
      "             num.label.steps = 5,\n",
      "             event.group.col = \"type\", \n",
      "             event.label.method = 1)\n",
      "\n",
      "p = p + scale_fill_manual(values = c(\"#8dd3c7\", \n",
      "                                     \"#ffffb3\", \n",
      "                                     \"#bebada\", \n",
      "                                     \"#fb8072\", \n",
      "                                     \"#80b1d3\"))\n",
      "\n",
      "p = p + theme_bw()\n",
      "\n",
      "p = p + theme(axis.text.y = element_blank(),\n",
      "              axis.text.x = element_text(angle = 45, hjust = 1, size = 14),\n",
      "              legend.position = \"none\")\n",
      "\n",
      "ggsave(\"figs/timeline.png\", p, h = 4, w = 8)"
     ],
     "language": "python",
     "metadata": {
      "slideshow": {
       "slide_type": "skip"
      }
     },
     "outputs": [],
     "prompt_number": 248
    },
    {
     "cell_type": "markdown",
     "metadata": {
      "slideshow": {
       "slide_type": "slide"
      }
     },
     "source": [
      "<img src=\"figs/timeline.png\" width=\"1100px\" align=\"middle\"/>"
     ]
    },
    {
     "cell_type": "markdown",
     "metadata": {
      "slideshow": {
       "slide_type": "slide"
      }
     },
     "source": [
      "##\"Important genera\" in 1977 based on pure culures from soil: \n",
      "###Agrobacterium, Alcaligenes, Arthrobacter, Bacillus, Flavobacterium, Micromonospora, Nocardia, Pseudomonas, and Streptomyces\n",
      "\n",
      "*****\n",
      "\n",
      "####*Introduction to Soil Microbiology*, Alexander, 1977"
     ]
    },
    {
     "cell_type": "code",
     "collapsed": false,
     "input": [
      "%%R -w 700 -h 350\n",
      "d = read.csv(\"data/janssen2006_table2.csv\")\n",
      "\n",
      "d[[\"Clone libraries\"]] = d$Abundance80\n",
      "d[[\"Colonies\"]] = d$MaxAbundanceRangeColonies\n",
      "\n",
      "dp = d %>%\n",
      "    select(`Clone libraries`, `Colonies`, Genus) %>%\n",
      "    na.omit %>%\n",
      "    gather(AbundanceType, Abundance, -Genus)\n",
      "\n",
      "p = ggplot(dp, aes(x = Genus, y = Abundance, fill = AbundanceType))\n",
      "\n",
      "p = p + geom_bar(stat = \"identity\", position = \"dodge\")\n",
      "\n",
      "p = p + labs(y = \"Relative Abundance\", fill = \"Sample type\")\n",
      "\n",
      "p = p + theme_bw()\n",
      "\n",
      "p = p + theme(axis.text.x = element_text(size = 15, angle = 45, hjust = 1, face = \"italic\"),\n",
      "              axis.text.y = element_text(size = 12),\n",
      "              axis.title.x = element_blank(),\n",
      "              axis.title.y = element_text(size = 14),\n",
      "              legend.title = element_text(size = 12),\n",
      "              legend.text = element_text(size = 12))\n",
      "\n",
      "ggsave(\"figs/janssen2006_table2data.png\", p, w = 7, h = 3.5)"
     ],
     "language": "python",
     "metadata": {
      "slideshow": {
       "slide_type": "skip"
      }
     },
     "outputs": [],
     "prompt_number": 249
    },
    {
     "cell_type": "markdown",
     "metadata": {
      "slideshow": {
       "slide_type": "subslide"
      }
     },
     "source": [
      "<img src=\"figs/janssen2006_table2data.png\" width=700px align=\"middle\"/>\n",
      "\n",
      "*****\n",
      "\n",
      "####Adapted from Table 2 in Janssen, Peter H. *AEM* 72, no. 3 (March 2006): 1719\u201328."
     ]
    },
    {
     "cell_type": "markdown",
     "metadata": {
      "slideshow": {
       "slide_type": "subslide"
      }
     },
     "source": [
      "<img src=figs/schloss2006_rarefaction.png width=350px align=\"middle\"/>\n",
      "\n",
      "*****\n",
      "\n",
      "####Schloss and Handelsman. *PLoS Computational Biology 2*, no. 7 (July 2006)."
     ]
    },
    {
     "cell_type": "code",
     "collapsed": false,
     "input": [
      "%%R -w 700 -h 350\n",
      "d = read.csv(\"data/janssen2006_table2.csv\")\n",
      "\n",
      "d[[\"Clone libraries\"]] = d$Abundance80\n",
      "d[[\"ATCC Isolates\"]] = d$AbundanceATCCSoilIsolates\n",
      "\n",
      "dp = d %>%\n",
      "    select(`Clone libraries`, `ATCC Isolates`, Genus) %>%\n",
      "    na.omit %>%\n",
      "    gather(AbundanceType, Abundance, -Genus)\n",
      "\n",
      "p = ggplot(dp, aes(x = Genus, y = Abundance, fill = AbundanceType))\n",
      "\n",
      "p = p + geom_bar(stat = \"identity\", position = \"dodge\")\n",
      "\n",
      "p = p + labs(y = \"Relative Abundance\", fill = \"Sample type\")\n",
      "\n",
      "p = p + theme_bw()\n",
      "\n",
      "p = p + theme(axis.text.x = element_text(size = 15, angle = 50, hjust = 1, face = \"italic\"),\n",
      "              axis.text.y = element_text(size = 12),\n",
      "              axis.title.x = element_blank(),\n",
      "              axis.title.y = element_text(size = 14),\n",
      "              legend.title = element_text(size = 12),\n",
      "              legend.text = element_text(size = 12))\n",
      "\n",
      "ggsave(\"figs/janssen2006_table2data_ATCC.png\", p, w = 7, h = 3.5)"
     ],
     "language": "python",
     "metadata": {
      "slideshow": {
       "slide_type": "skip"
      }
     },
     "outputs": [],
     "prompt_number": 248
    },
    {
     "cell_type": "markdown",
     "metadata": {
      "slideshow": {
       "slide_type": "skip"
      }
     },
     "source": [
      "<img src=\"figs/janssen2006_table2data_ATCC.png\" width=700px align=\"middle\"/>\n",
      "\n",
      "*****\n",
      "\n",
      "####Adapted from Table 2 in Janssen, Peter H. *AEM* 72, no. 3 (March 2006): 1719\u201328."
     ]
    },
    {
     "cell_type": "code",
     "collapsed": false,
     "input": [
      "cmd = \"\"\"\n",
      "digraph G {\n",
      "\n",
      "subgraph cluster_all{\n",
      "\t\tcolor=white;\n",
      "\t\tfontsize=30\n",
      "\t\tfontname=\"cuosine\"        \n",
      "\t\tfontcolor=\"black\" \n",
      "        \n",
      "    GI[style=filled,color=lightgrey,label=\"Genetic Identity\",fontsize=30,fontname=\"Cousine\"];\n",
      "    F[style=filled,color=lightgrey,label=\"Function\",fontsize=30,fontname=\"Cousine\"];\n",
      "    GI -> F;\n",
      "    \n",
      "}\n",
      "\n",
      "}\n",
      "\"\"\"\n",
      "tmpfile = \"figs/flow1.png\"\n",
      "with open(tmpfile, 'w') as f: f.write(run_dot(cmd))"
     ],
     "language": "python",
     "metadata": {
      "slideshow": {
       "slide_type": "skip"
      }
     },
     "outputs": [],
     "prompt_number": 146
    },
    {
     "cell_type": "markdown",
     "metadata": {
      "slideshow": {
       "slide_type": "slide"
      }
     },
     "source": [
      "<img src=figs/flow1.png width=600px align=\"middle\"/>"
     ]
    },
    {
     "cell_type": "code",
     "collapsed": false,
     "input": [
      "cmd = \"\"\"\n",
      "digraph G {\n",
      "\n",
      "subgraph cluster_all{\n",
      "\t\tcolor=white;\n",
      "\t\tfontsize=30\n",
      "\t\tfontname=\"cuosine\"        \n",
      "\t\tfontcolor=\"black\" \n",
      "        \n",
      "    GI[style=filled,color=lightgrey,label=\"Genetic Identity\",fontsize=30,fontname=\"Cousine\"];\n",
      "    C[style=filled,color=lightblue,label=\"Culture\",fontsize=30,fontname=\"Cousine\"];\n",
      "    F[style=filled,color=lightgrey,label=\"Function\",fontsize=30,fontname=\"Cousine\"];\n",
      "    GI -> C;\n",
      "    C -> F;\n",
      "    \n",
      "}\n",
      "\n",
      "}\n",
      "\"\"\"\n",
      "tmpfile = \"figs/flow2.png\"\n",
      "with open(tmpfile, 'w') as f: f.write(run_dot(cmd))"
     ],
     "language": "python",
     "metadata": {
      "slideshow": {
       "slide_type": "skip"
      }
     },
     "outputs": [],
     "prompt_number": 145
    },
    {
     "cell_type": "markdown",
     "metadata": {
      "slideshow": {
       "slide_type": "subslide"
      }
     },
     "source": [
      "<img src=\"figs/flow2.png\" width=600px align=\"middle\"/>"
     ]
    },
    {
     "cell_type": "code",
     "collapsed": false,
     "input": [
      "cmd = \"\"\"\n",
      "digraph G {\n",
      "\n",
      "subgraph cluster_all{\n",
      "\t\tcolor=white;\n",
      "\t\tfontsize=30\n",
      "\t\tfontname=\"cuosine\"        \n",
      "\t\tfontcolor=\"black\" \n",
      "        \n",
      "    GI[style=filled,color=lightgrey,label=\"Genetic Identity\",fontsize=30,fontname=\"Cousine\"];\n",
      "    C[style=filled,color=lightblue,label=\"Culture\",fontsize=30,fontname=\"Cousine\"];\n",
      "    F[style=filled,color=lightgrey,label=\"Function\",fontsize=30,fontname=\"Cousine\"];\n",
      "    S[color=black,image=\"figs/Lol_question_mark.png\",label=\"\"];\n",
      "    GI -> C;\n",
      "    GI -> S;\n",
      "    C -> F;\n",
      "    S -> F;\n",
      "}\n",
      "\n",
      "}\n",
      "\"\"\"\n",
      "tmpfile = \"figs/flow5.png\"\n",
      "with open(tmpfile, 'w') as f: f.write(run_dot(cmd))\n",
      "#Image(\"figs/flow5.png\")"
     ],
     "language": "python",
     "metadata": {
      "slideshow": {
       "slide_type": "skip"
      }
     },
     "outputs": [],
     "prompt_number": 254
    },
    {
     "cell_type": "markdown",
     "metadata": {
      "slideshow": {
       "slide_type": "subslide"
      }
     },
     "source": [
      "<img src=\"figs/flow5.png\" width=600px align=\"middle\"/>"
     ]
    },
    {
     "cell_type": "code",
     "collapsed": false,
     "input": [
      "cmd = \"\"\"\n",
      "digraph G {\n",
      "\n",
      "subgraph cluster_all{\n",
      "\t\tcolor=white;\n",
      "\t\tfontsize=30\n",
      "\t\tfontname=\"cuosine\"        \n",
      "\t\tfontcolor=\"black\" \n",
      "        \n",
      "    GI[style=filled,color=lightgrey,label=\"Genetic Identity\",fontsize=30,fontname=\"Cousine\"];\n",
      "    C[style=filled,color=lightblue,label=\"Culture\",fontsize=30,fontname=\"Cousine\"];\n",
      "    F[style=filled,color=lightgrey,label=\"Function\",fontsize=30,fontname=\"Cousine\"];\n",
      "    S[color=black,image=\"figs/superman.png\",label=\"\"];\n",
      "    GI -> C;\n",
      "    GI -> S;\n",
      "    C -> F;\n",
      "    S -> F;\n",
      "}\n",
      "\n",
      "}\n",
      "\"\"\"\n",
      "tmpfile = \"figs/flow4.png\"\n",
      "with open(tmpfile, 'w') as f: f.write(run_dot(cmd))\n",
      "#Image(\"figs/flow4.png\")"
     ],
     "language": "python",
     "metadata": {
      "slideshow": {
       "slide_type": "skip"
      }
     },
     "outputs": [],
     "prompt_number": 172
    },
    {
     "cell_type": "markdown",
     "metadata": {
      "slideshow": {
       "slide_type": "subslide"
      }
     },
     "source": [
      "<img src=\"figs/flow4.png\" width=700px align=\"middle\"/>"
     ]
    },
    {
     "cell_type": "markdown",
     "metadata": {
      "slideshow": {
       "slide_type": "slide"
      }
     },
     "source": [
      "#SO what is DNA-SIP?\n",
      "<img src=figs/Radejewski1.png width=750px align=\"middle\"/>\n",
      "\n",
      "*****\n",
      "\n",
      "####Radajewski et al. *Nature* 403, no. 6770 (February 10, 2000): 646\u201349.\n"
     ]
    },
    {
     "cell_type": "markdown",
     "metadata": {
      "slideshow": {
       "slide_type": "subslide"
      }
     },
     "source": [
      "#SO what is DNA-SIP?\n",
      "<img src=figs/Radejewski2.png width=500px align=\"middle\"/>\n",
      "\n",
      "*****\n",
      "\n",
      "####Radajewski et al. *Nature* 403, no. 6770 (February 10, 2000): 646\u201349.\n"
     ]
    },
    {
     "cell_type": "markdown",
     "metadata": {
      "slideshow": {
       "slide_type": "subslide"
      }
     },
     "source": [
      "<img src=figs/buckley2007_GCandLabel.jpg width =600px align=\"middle\"/>\n",
      "\n",
      "*****\n",
      "\n",
      "####Buckley, DH. et al. *AEM* 73, no. 10 (May 2007): 3189\u201395."
     ]
    },
    {
     "cell_type": "markdown",
     "metadata": {
      "slideshow": {
       "slide_type": "subslide"
      }
     },
     "source": [
      "<img src=figs/schloss_rank_abundance.jpg width=340px align=\"middle\"/>\n",
      "\n",
      "*****\n",
      "\n",
      "####Schloss and Handelsman. *PLoS Computational Biology 2*, no. 7 (July 2006)."
     ]
    },
    {
     "cell_type": "code",
     "collapsed": false,
     "input": [
      "%%R -w 500\n",
      "update_geom_defaults(\"line\", list(alpha = 1))\n",
      "\n",
      "f = function(x, c0, pos) {\n",
      "    c0 * exp(-(pos - x) ** 2 / (2 * (0.1 ** 2)))\n",
      "}\n",
      "\n",
      "X = seq(0,1,0.01)\n",
      "Y1 = sapply(X, f, c0=1, pos=0.50)\n",
      "Y2 = sapply(X, f, c0=0.05, pos=0.65)\n",
      "Y3 = sapply(X, f, c0=0.25, pos=0.45)\n",
      "\n",
      "df = data.frame(X = X,\n",
      "                big = Y1,\n",
      "                mid = Y3,\n",
      "                little = Y2)\n",
      "\n",
      "df = df %>% mutate(total = big + little + mid)\n",
      "\n",
      "df = df %>%\n",
      "    gather(OTU, Total, -X, -total) %>%\n",
      "    mutate(Relative = Total / total) %>% \n",
      "    gather(type, value, -X, -total, -OTU)\n",
      "\n",
      "p = ggplot(df, aes(x = X, y = value))\n",
      "\n",
      "p = p + facet_wrap(~type, ncol = 1)\n",
      "\n",
      "p = p + geom_line(data = df %>% filter(type == \"Total\"), size = 2, aes(color = OTU))\n",
      "p = p + geom_area(data = df %>% filter(type == \"Relative\"), aes(fill = OTU))\n",
      "\n",
      "p = p + theme_bw()\n",
      "\n",
      "p = p + labs(x = \"Density\", y = \"Abundance\")\n",
      "\n",
      "p = p + theme(axis.text.x = element_blank(),\n",
      "              axis.text.y = element_blank(),\n",
      "              axis.title.y = element_text(size = 20),\n",
      "              axis.title.x = element_text(size = 20),\n",
      "              legend.title = element_text(size = 12),\n",
      "              legend.text = element_text(size = 12),\n",
      "              strip.background = element_rect(color = \"black\", fill = \"grey90\"),\n",
      "              strip.text = element_text(size = 20, face = \"italic\", color = \"blue\"))\n",
      "\n",
      "ggsave(\"figs/abund_v_density.png\", p, w = 6, h = 5)"
     ],
     "language": "python",
     "metadata": {
      "slideshow": {
       "slide_type": "skip"
      }
     },
     "outputs": [],
     "prompt_number": 297
    },
    {
     "cell_type": "markdown",
     "metadata": {
      "slideshow": {
       "slide_type": "subslide"
      }
     },
     "source": [
      "<img src=\"figs/abund_v_density.png\" width=700px align=\"middle\"/>"
     ]
    },
    {
     "cell_type": "markdown",
     "metadata": {
      "slideshow": {
       "slide_type": "subslide"
      }
     },
     "source": [
      "#SO what is DNA-SIP?\n",
      "<img src=figs/Radejewski2.png width=500px align=\"middle\"/>\n",
      "\n",
      "*****\n",
      "\n",
      "####Radajewski et al. *Nature* 403, no. 6770 (February 10, 2000): 646\u201349.\n"
     ]
    },
    {
     "cell_type": "code",
     "collapsed": false,
     "input": [
      "cmd = \"\"\"\n",
      "digraph G {\n",
      "\n",
      "subgraph cluster_all{\n",
      "\t\tcolor=white;\n",
      "\t\tfontsize=30\n",
      "\t\tfontname=\"cuosine\"        \n",
      "\t\tfontcolor=\"black\" \n",
      "        \n",
      "    I[color=black,label=\"Incubations\",fontsize=30,fontname=\"Cousine\"];\n",
      "    E[color=black,label=\"DNA extraction\",fontsize=30,fontname=\"Cousine\"];\n",
      "    F[color=black,label=\"Fractionation\",fontsize=30,fontname=\"Cousine\"];\n",
      "    CP1[style=filled,color=lightblue,label=\"Community profiling\\nDGGE/tRFLP\",fontsize=30,fontname=\"Cousine\"];\n",
      "    A1[style=filled,color=lightblue,label=\"Analysis of labeled\\nDNA (selected TRFs, DGGE bands)\",fontsize=30,fontname=\"Cousine\"];\n",
      "    CP2[style=filled,color=mediumseagreen,label=\"Community profiling\\nHigh throughput sequencing\",fontsize=30,fontname=\"Cousine\"];\n",
      "    A2[style=filled,color=mediumseagreen,label=\"Identify enriched OTUs\\nin label versus control\\n(heavy fractions)\",fontsize=30,fontname=\"Cousine\"];\n",
      "\n",
      "    I -> E;\n",
      "    E -> F;\n",
      "    F -> CP1 [fontcolor=blue,label=\"Traditional\",fontsize=30,fontname=\"Cousine\"];\n",
      "    CP1 -> A1;\n",
      "    F -> CP2 [fontcolor=mediumseagreen,label=\"New\",fontsize=30,fontname=\"Cousine\"];\n",
      "    CP2 -> A2;\n",
      "\n",
      "}\n",
      "\n",
      "}\n",
      "\"\"\"\n",
      "tmpfile = \"figs/flow_SIP.png\"\n",
      "with open(tmpfile, 'w') as f: f.write(run_dot(cmd))\n",
      "#Image(\"figs/flow_SIP.png\")"
     ],
     "language": "python",
     "metadata": {
      "slideshow": {
       "slide_type": "skip"
      }
     },
     "outputs": [],
     "prompt_number": 342
    },
    {
     "cell_type": "markdown",
     "metadata": {
      "slideshow": {
       "slide_type": "slide"
      }
     },
     "source": [
      "<img src=\"figs/flow_SIP.png\" width=1000px align=\"middle\"/>"
     ]
    },
    {
     "cell_type": "markdown",
     "metadata": {
      "slideshow": {
       "slide_type": "subslide"
      }
     },
     "source": [
      "#Fractionation\n",
      "\n",
      "*****\n",
      "\n",
      "<img src=\"figs/neufeld.png\" width=500px align=\"middle\"/>\n",
      "\n",
      "*****\n",
      "\n",
      "####Neufeld et al. *Nature Protocols* 2, no. 4 (April 2007): 860\u201366."
     ]
    },
    {
     "cell_type": "markdown",
     "metadata": {
      "slideshow": {
       "slide_type": "subslide"
      }
     },
     "source": [
      "#Profiling gradient fractions with DGGE\n",
      "\n",
      "*****\n",
      "\n",
      "<img src=\"figs/neufeld_DGGE.jpg\" width=900px align=\"middle\"/>\n",
      "\n",
      "*****\n",
      "\n",
      "####Neufeld et al. The ISME Journal 1, no. 6 (August 9, 2007): 480\u201391."
     ]
    },
    {
     "cell_type": "markdown",
     "metadata": {
      "slideshow": {
       "slide_type": "subslide"
      }
     },
     "source": [
      "<img src=figs/Radejewski2.png width=500px align=\"middle\"/>\n",
      "\n",
      "*****\n",
      "\n",
      "####Radajewski et al. *Nature* 403, no. 6770 (February 10, 2000): 646\u201349.\n"
     ]
    },
    {
     "cell_type": "markdown",
     "metadata": {
      "slideshow": {
       "slide_type": "slide"
      }
     },
     "source": [
      "<img src=figs/janssen2006_boxplot.jpg width=\"450px\" align=\"middle\"/>\n",
      "\n",
      "*****\n",
      "\n",
      "####Janssen, Peter H. *AEM* 72, no. 3 (March 2006): 1719\u201328."
     ]
    },
    {
     "cell_type": "markdown",
     "metadata": {
      "slideshow": {
       "slide_type": "subslide"
      }
     },
     "source": [
      "##Five years later...\n",
      "\n",
      "<img src=figs/sangwan2011_stacked_bar.jpg width=600px align=\"middle\"/>\n",
      "\n",
      "*****\n",
      "\n",
      "####Bergmann, G et al. *Soil Biol & Biochem* 43, no. 7 (July 2011): 1450\u201355."
     ]
    },
    {
     "cell_type": "code",
     "collapsed": false,
     "input": [
      "%%R -h 300\n",
      "d = read.csv(\"data/bergmann2011_table.csv\")\n",
      "\n",
      "p = ggplot(d, aes(x = percent.identity))\n",
      "\n",
      "p = p + geom_histogram(binwidth = 0.5)\n",
      "\n",
      "p = p + theme_bw()\n",
      "\n",
      "p = p + theme(axis.text.x = element_text(size = 15),\n",
      "              axis.text.y = element_text(size = 14),\n",
      "              axis.title.y = element_text(size = 14),\n",
      "              legend.title = element_text(size = 12),\n",
      "              legend.text = element_text(size = 12))\n",
      "\n",
      "p = p + labs(x = \"Sequence Identity\")\n",
      "\n",
      "p = p + ggtitle(\"Sequence identity between 15 most abundant\\nVerrucomicrobia phylotypes and closest cultured relatives\")\n",
      "\n",
      "ggsave(\"figs/verrucohistogram.png\", p, h = 3, w = 6)"
     ],
     "language": "python",
     "metadata": {
      "slideshow": {
       "slide_type": "skip"
      }
     },
     "outputs": [],
     "prompt_number": 167
    },
    {
     "cell_type": "markdown",
     "metadata": {
      "slideshow": {
       "slide_type": "subslide"
      }
     },
     "source": [
      "<img src=figs/verrucohistogram.png width=650px align=\"middle\"/>\n",
      "\n",
      "*****\n",
      "\n",
      "####Data from Bergmann, G. et al. *Soil Biol & Biochem* 43, no. 7 (July 2011): 1450\u201355."
     ]
    },
    {
     "cell_type": "markdown",
     "metadata": {
      "slideshow": {
       "slide_type": "slide"
      }
     },
     "source": [
      "<img src=\"figs/pedros_alio.png\" width=600px align=\"middle\"/>\n",
      "\n",
      "*****\n",
      "\n",
      "####Pedr\u00f3s-Ali\u00f3, Carlos.  *Annual Review of Marine Science* 4, no. 1 (2012): 449\u201366."
     ]
    },
    {
     "cell_type": "markdown",
     "metadata": {
      "slideshow": {
       "slide_type": "slide"
      }
     },
     "source": [
      "<img src=\"figs/mother_cell_lysis.jpg\" width=1000px align=\"middle\"/>\n",
      "\n",
      "*****\n",
      "\n",
      "####Eijlander et al. *Nucleic Acids Research* 42, no. D1 (January 1, 2014): D685\u201391."
     ]
    }
   ],
   "metadata": {}
  }
 ]
}